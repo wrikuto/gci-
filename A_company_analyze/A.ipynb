{
 "cells": [
  {
   "cell_type": "code",
   "execution_count": 3,
   "metadata": {},
   "outputs": [],
   "source": [
    "import sqlite3\n",
    "import numpy as np\n",
    "# %load_ext cudf.pandas\n",
    "import pandas as pd\n",
    "import matplotlib.pyplot as plt\n",
    "import seaborn as sns\n",
    "from sklearn.preprocessing import LabelEncoder\n",
    "\n",
    "import sweetviz as sv\n",
    "# import cudf\n"
   ]
  },
  {
   "cell_type": "code",
   "execution_count": 4,
   "metadata": {},
   "outputs": [
    {
     "name": "stdout",
     "output_type": "stream",
     "text": [
      "Record\n",
      "Client\n"
     ]
    }
   ],
   "source": [
    "# SQLite データベースに接続\n",
    "connect = sqlite3.connect(\"telecom.sqlite3\")\n",
    "\n",
    "# テーブル一覧を表示\n",
    "cursor = connect.cursor()\n",
    "cursor.execute(\"SELECT name FROM sqlite_master WHERE type='table';\")\n",
    "tables = cursor.fetchall()\n",
    "\n",
    "# テーブル名を表示\n",
    "for table in tables:\n",
    "    print(table[0])\n",
    "\n",
    "# 接続を閉じる\n",
    "connect.close()\n",
    "\n",
    "\n",
    "connect = sqlite3.connect(\"telecom.sqlite3\")\n",
    "\n",
    "record = pd.read_sql(\"select * from Record\", con=connect)\n",
    "client = pd.read_sql(\"select * from Client\", con=connect)\n",
    "\n",
    "uni_df = pd.merge(record, client, on=\"Customer_ID\", how=\"inner\")\n"
   ]
  },
  {
   "cell_type": "code",
   "execution_count": 11,
   "metadata": {},
   "outputs": [
    {
     "data": {
      "text/plain": [
       "0"
      ]
     },
     "execution_count": 11,
     "metadata": {},
     "output_type": "execute_result"
    }
   ],
   "source": [
    "uni_df = uni_df.dropna(subset=[\"change_mou\"])\n",
    "uni_df = uni_df[uni_df[\"rev_Mean\"] >= 0]\n",
    "uni_df[\"ovrmou_Mean\"].isna().sum()"
   ]
  },
  {
   "cell_type": "code",
   "execution_count": 14,
   "metadata": {},
   "outputs": [
    {
     "data": {
      "text/plain": [
       "5826133.5616668295"
      ]
     },
     "execution_count": 14,
     "metadata": {},
     "output_type": "execute_result"
    }
   ],
   "source": [
    "uni_df[\"rev_Mean\"].sum()"
   ]
  },
  {
   "cell_type": "code",
   "execution_count": null,
   "metadata": {},
   "outputs": [],
   "source": []
  },
  {
   "cell_type": "code",
   "execution_count": null,
   "metadata": {},
   "outputs": [],
   "source": []
  }
 ],
 "metadata": {
  "kernelspec": {
   "display_name": "Python 3",
   "language": "python",
   "name": "python3"
  },
  "language_info": {
   "codemirror_mode": {
    "name": "ipython",
    "version": 3
   },
   "file_extension": ".py",
   "mimetype": "text/x-python",
   "name": "python",
   "nbconvert_exporter": "python",
   "pygments_lexer": "ipython3",
   "version": "3.12.0"
  }
 },
 "nbformat": 4,
 "nbformat_minor": 2
}
