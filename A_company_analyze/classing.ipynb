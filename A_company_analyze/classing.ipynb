{
 "cells": [
  {
   "cell_type": "code",
   "execution_count": 1,
   "metadata": {},
   "outputs": [],
   "source": [
    "import sqlite3\n",
    "import numpy as np\n",
    "# %load_ext cudf.pandas\n",
    "import pandas as pd\n",
    "import matplotlib.pyplot as plt\n",
    "import japanize_matplotlib\n",
    "import seaborn as sns\n",
    "from sklearn.preprocessing import LabelEncoder\n",
    "# k-means法を使うためのインポート\n",
    "from sklearn.cluster import KMeans\n",
    "\n",
    "from sklearn.model_selection import train_test_split\n",
    "import lightgbm as lgb\n",
    "from sklearn.metrics import roc_auc_score\n",
    "\n",
    "\n",
    "import sweetviz as sv"
   ]
  },
  {
   "cell_type": "code",
   "execution_count": 2,
   "metadata": {},
   "outputs": [
    {
     "name": "stdout",
     "output_type": "stream",
     "text": [
      "Record\n",
      "Client\n"
     ]
    }
   ],
   "source": [
    "# SQLite データベースに接続\n",
    "connect = sqlite3.connect(\"telecom.sqlite3\")\n",
    "\n",
    "# テーブル一覧を表示\n",
    "cursor = connect.cursor()\n",
    "cursor.execute(\"SELECT name FROM sqlite_master WHERE type='table';\")\n",
    "tables = cursor.fetchall()\n",
    "\n",
    "# テーブル名を表示\n",
    "for table in tables:\n",
    "    print(table[0])\n",
    "\n",
    "# 接続を閉じる\n",
    "connect.close()\n",
    "\n",
    "\n",
    "connect = sqlite3.connect(\"telecom.sqlite3\")\n",
    "\n",
    "record = pd.read_sql(\"select * from Record\", con=connect)\n",
    "client = pd.read_sql(\"select * from Client\", con=connect)\n",
    "\n",
    "uni_df = pd.merge(record, client, on=\"Customer_ID\", how=\"inner\")\n",
    "\n",
    "uni_df = uni_df.dropna(subset=[\"change_mou\"])\n",
    "\n",
    "uni_df[uni_df[\"change_mou\"].isna() == True]\n",
    "\n",
    "\n",
    "analy_df = uni_df[[\"rev_Mean\", \"change_mou\", \"mou_Mean\", \"totmrc_Mean\", \"ovrmou_Mean\", \"ovrrev_Mean\", \"vceovr_Mean\", \"datovr_Mean\", \\\n",
    "                  \"months\", \"churn\", \"eqpdays\"]].copy()\n",
    "\n",
    "analy_df[\"MOUMEAN_PER_CHMOU\"] = (analy_df[\"change_mou\"]) / analy_df[\"mou_Mean\"]\n",
    "analy_df[\"revMean_PER_mouMean\"] = ((analy_df[\"rev_Mean\"]) / (analy_df[\"mou_Mean\"]))\n",
    "\n",
    "# ext_sources = [\"avg6qty\", \"avg6mou\"]\n",
    "\n",
    "# for source in ext_sources:\n",
    "#     analy_df[source].fillna(analy_df[source].mean(), inplace=True)\n",
    "\n",
    "# analy_df = analy_df[0.1 < analy_df[\"revMean_PER_mouMean\"]]\n",
    "\n",
    "X = analy_df.drop(['churn'], axis=1)\n",
    "y = analy_df['churn'] # 目的変数\n",
    "\n",
    "X_train, X_valid, y_train, y_valid = train_test_split(X, y,test_size=0.2, random_state=0)"
   ]
  },
  {
   "cell_type": "code",
   "execution_count": 3,
   "metadata": {},
   "outputs": [
    {
     "name": "stdout",
     "output_type": "stream",
     "text": [
      "[LightGBM] [Info] Number of positive: 39193, number of negative: 40094\n",
      "[LightGBM] [Info] Auto-choosing col-wise multi-threading, the overhead of testing was 0.005801 seconds.\n",
      "You can set `force_col_wise=true` to remove the overhead.\n",
      "[LightGBM] [Info] Total Bins 2862\n",
      "[LightGBM] [Info] Number of data points in the train set: 79287, number of used features: 12\n",
      "[LightGBM] [Info] [binary:BoostFromScore]: pavg=0.494318 -> initscore=-0.022729\n",
      "[LightGBM] [Info] Start training from score -0.022729\n",
      "Train Score: 0.6683016987363903\n",
      "Valid Score: 0.6599028630420798\n"
     ]
    }
   ],
   "source": [
    "\n",
    "from lightgbm import LGBMClassifier\n",
    "\n",
    "lgb_model = LGBMClassifier(random_state=0, learning_rate=0.02, num_leaves=26, max_depth=7, reg_alpha=0.1, reg_lambda=0.1)\n",
    "lgb_model.fit(X_train, y_train)\n",
    "\n",
    "lgb_train_pred = lgb_model.predict_proba(X_train)[:, 1]\n",
    "lgb_valid_pred = lgb_model.predict_proba(X_valid)[:, 1]\n",
    "print(f\"Train Score: {roc_auc_score(y_train, lgb_train_pred)}\")\n",
    "print(f\"Valid Score: {roc_auc_score(y_valid, lgb_valid_pred)}\")"
   ]
  },
  {
   "cell_type": "code",
   "execution_count": 4,
   "metadata": {},
   "outputs": [
    {
     "name": "stdout",
     "output_type": "stream",
     "text": [
      "[LightGBM] [Info] Number of positive: 48884, number of negative: 50225\n",
      "[LightGBM] [Info] Auto-choosing col-wise multi-threading, the overhead of testing was 0.005778 seconds.\n",
      "You can set `force_col_wise=true` to remove the overhead.\n",
      "[LightGBM] [Info] Total Bins 2862\n",
      "[LightGBM] [Info] Number of data points in the train set: 99109, number of used features: 12\n",
      "[LightGBM] [Info] [binary:BoostFromScore]: pavg=0.493235 -> initscore=-0.027063\n",
      "[LightGBM] [Info] Start training from score -0.027063\n"
     ]
    },
    {
     "data": {
      "text/plain": [
       "0.6118411522463423"
      ]
     },
     "execution_count": 4,
     "metadata": {},
     "output_type": "execute_result"
    }
   ],
   "source": [
    "lgb_model = LGBMClassifier(random_state=0, learning_rate=0.02, num_leaves=26, max_depth=7, reg_alpha=0.1, reg_lambda=0.1)\n",
    "lgb_model.fit(X, y)\n",
    "\n",
    "analy_df_pred = lgb_model.predict_proba(X)[:, 1]\n",
    "\n",
    "\n",
    "lgb_train_pred_binary = (analy_df_pred >= 0.5).astype(int)\n",
    "\n",
    "churned_data_train = analy_df[lgb_train_pred_binary == 1]\n",
    "\n",
    "churned_data_train[\"churn\"].mean()"
   ]
  },
  {
   "cell_type": "code",
   "execution_count": 5,
   "metadata": {},
   "outputs": [
    {
     "data": {
      "text/plain": [
       "0.6118411522463423"
      ]
     },
     "execution_count": 5,
     "metadata": {},
     "output_type": "execute_result"
    }
   ],
   "source": [
    "churned_data_train[\"churn\"].mean()"
   ]
  },
  {
   "cell_type": "code",
   "execution_count": null,
   "metadata": {},
   "outputs": [],
   "source": []
  },
  {
   "cell_type": "code",
   "execution_count": null,
   "metadata": {},
   "outputs": [],
   "source": []
  }
 ],
 "metadata": {
  "kernelspec": {
   "display_name": "Python 3",
   "language": "python",
   "name": "python3"
  },
  "language_info": {
   "codemirror_mode": {
    "name": "ipython",
    "version": 3
   },
   "file_extension": ".py",
   "mimetype": "text/x-python",
   "name": "python",
   "nbconvert_exporter": "python",
   "pygments_lexer": "ipython3",
   "version": "3.12.0"
  }
 },
 "nbformat": 4,
 "nbformat_minor": 2
}
